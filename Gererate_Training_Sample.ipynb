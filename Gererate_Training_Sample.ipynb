{
  "nbformat": 4,
  "nbformat_minor": 0,
  "metadata": {
    "colab": {
      "name": "Gererate_Training_Sample.ipynb",
      "provenance": [],
      "collapsed_sections": [],
      "include_colab_link": true
    },
    "kernelspec": {
      "name": "python3",
      "display_name": "Python 3"
    }
  },
  "cells": [
    {
      "cell_type": "markdown",
      "metadata": {
        "id": "view-in-github",
        "colab_type": "text"
      },
      "source": [
        "<a href=\"https://colab.research.google.com/github/habibsifat/User-Friendly-Bangla-Writer-A-Deep-Learning-Based-Approach/blob/master/Gererate_Training_Sample.ipynb\" target=\"_parent\"><img src=\"https://colab.research.google.com/assets/colab-badge.svg\" alt=\"Open In Colab\"/></a>"
      ]
    },
    {
      "cell_type": "code",
      "metadata": {
        "id": "8hFsYJPjCHRX",
        "colab_type": "code",
        "colab": {}
      },
      "source": [
        "from google.colab import drive\n",
        "drive.mount('/content/drive')"
      ],
      "execution_count": 0,
      "outputs": []
    },
    {
      "cell_type": "code",
      "metadata": {
        "id": "LN62K4sZTHB4",
        "colab_type": "code",
        "outputId": "68f6f61f-1067-4768-e1b4-9f71847caab1",
        "colab": {
          "base_uri": "https://localhost:8080/",
          "height": 35
        }
      },
      "source": [
        "!ls  \"/content/drive/My Drive/Colab Notebooks/Capstone/Clean.txt\""
      ],
      "execution_count": 0,
      "outputs": [
        {
          "output_type": "stream",
          "text": [
            "'/content/drive/My Drive/Colab Notebooks/Capstone/Clean.txt'\n"
          ],
          "name": "stdout"
        }
      ]
    },
    {
      "cell_type": "code",
      "metadata": {
        "id": "wpgoaTX6TVRf",
        "colab_type": "code",
        "colab": {}
      },
      "source": [
        "corpus_file = '/content/drive/My Drive/Colab Notebooks/Capstone/Clean.txt'"
      ],
      "execution_count": 0,
      "outputs": []
    },
    {
      "cell_type": "code",
      "metadata": {
        "id": "HgtwbkisUKA_",
        "colab_type": "code",
        "colab": {}
      },
      "source": [
        "sentences = []\n",
        "with open(corpus_file, 'r', encoding=\"utf-8\") as f:\n",
        "    for line in f:\n",
        "        sentences.append(line.split())"
      ],
      "execution_count": 0,
      "outputs": []
    },
    {
      "cell_type": "code",
      "metadata": {
        "id": "OdA5b4Yq3hre",
        "colab_type": "code",
        "outputId": "d1bd2009-ba70-4ef1-a5bd-21ebdd14c20e",
        "colab": {
          "base_uri": "https://localhost:8080/",
          "height": 35
        }
      },
      "source": [
        "print(len(sentences))"
      ],
      "execution_count": 0,
      "outputs": [
        {
          "output_type": "stream",
          "text": [
            "4641\n"
          ],
          "name": "stdout"
        }
      ]
    },
    {
      "cell_type": "code",
      "metadata": {
        "id": "3xOg27QYUMKf",
        "colab_type": "code",
        "colab": {}
      },
      "source": [
        "sample = []\n",
        "count=0\n",
        "#f = open(\"sample.txt\", \"x\")\n",
        "#f = open(\"sample.txt\", \"a\")\n",
        "with open('/content/drive/My Drive/Colab Notebooks/Capstone/S_file.txt', 'w') as f:\n",
        "  #f.write('content')\n",
        "  for line in sentences:\n",
        "    p=(len(line))\n",
        "    i = 0\n",
        "    while i<=p:\n",
        "      j=0\n",
        "      while j<i:\n",
        "        if j==0:\n",
        "          print(\"* \"+line[j]+\" \", end = '')\n",
        "          f.write(\"* \"+line[j]+\" \")\n",
        "        else:\n",
        "          print(line[j]+\" \", end = '')\n",
        "          f.write(line[j]+\" \")\n",
        "        j = j+1\n",
        "        #f.write(\"\\n\")\n",
        "      if i==p:\n",
        "        print(\"$\",end = '')\n",
        "        f.write(\"\\n\")\n",
        "      print()\n",
        "    # f.write(\"\\n\")\n",
        "      i += 1\n",
        "f.close()"
      ],
      "execution_count": 0,
      "outputs": []
    },
    {
      "cell_type": "code",
      "metadata": {
        "id": "0W6JqoetZx43",
        "colab_type": "code",
        "colab": {}
      },
      "source": [
        "f = open(\"file.txt\", \"x\")\n",
        "f = open(\"file.txt\", \"a\")\n",
        "f.write(\"hellow \")\n",
        "f.write(\"\\n\")\n",
        "f.write(\"World!\")\n",
        "f.close()"
      ],
      "execution_count": 0,
      "outputs": []
    },
    {
      "cell_type": "code",
      "metadata": {
        "id": "etQL7mpceA0X",
        "colab_type": "code",
        "colab": {}
      },
      "source": [
        "#CSV_FILE\n",
        "f = open(\"file.csv\", 'w',encoding=\"utf8\")\n",
        "for line in sentences:\n",
        "  p=(len(line))\n",
        "  i = 0\n",
        "  while i<=p:\n",
        "    j=0\n",
        "    while j<i:\n",
        "      if j==0:\n",
        "        print(\"* \"+line[j]+\" \", end = '')\n",
        "        f.write(\"* \"+line[j]+\" \")\n",
        "      else:\n",
        "        print(line[j]+\" \", end = '')\n",
        "        f.write(line[j]+\" \")\n",
        "      j = j+1\n",
        "    if i==p:\n",
        "      print(\"$\",end = '')\n",
        "      f.write(\"$\")\n",
        "      f.write(\"\\n\")\n",
        "    print()\n",
        "    i += 1  \n",
        "    \n",
        "f.close()"
      ],
      "execution_count": 0,
      "outputs": []
    },
    {
      "cell_type": "code",
      "metadata": {
        "id": "yZtxYvS45vsK",
        "colab_type": "code",
        "colab": {}
      },
      "source": [
        ""
      ],
      "execution_count": 0,
      "outputs": []
    }
  ]
}