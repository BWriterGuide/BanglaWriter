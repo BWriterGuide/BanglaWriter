{
  "nbformat": 4,
  "nbformat_minor": 0,
  "metadata": {
    "colab": {
      "name": "Make_Valid_Set.ipynb",
      "provenance": [],
      "collapsed_sections": [],
      "include_colab_link": true
    },
    "kernelspec": {
      "name": "python3",
      "display_name": "Python 3"
    }
  },
  "cells": [
    {
      "cell_type": "markdown",
      "metadata": {
        "id": "view-in-github",
        "colab_type": "text"
      },
      "source": [
        "<a href=\"https://colab.research.google.com/github/habibsifat/User-Friendly-Bangla-Writer-A-Deep-Learning-Based-Approach/blob/master/Make_Valid_Set.ipynb\" target=\"_parent\"><img src=\"https://colab.research.google.com/assets/colab-badge.svg\" alt=\"Open In Colab\"/></a>"
      ]
    },
    {
      "cell_type": "code",
      "metadata": {
        "id": "2uatQxoSBPk7",
        "colab_type": "code",
        "colab": {}
      },
      "source": [
        "group1 = ['ো', '◌্', '◌']\n",
        "group2 = ['আ', '◌া']\n",
        "group3 = ['ই', 'ঈ', 'ি', '◌ী']\n",
        "group4 = ['উ', 'ঊ', '◌ু', '◌ূ']\n",
        "group5 = ['এ', 'ঐ', 'ে', 'ৈ']\n",
        "group6 = ['অ', 'ও', 'ঔ', 'ৌ']\n",
        "group7 = ['ক', 'খ']\n",
        "group8 = ['গ', 'ঘ']\n",
        "group9 = ['ম', 'ঙ', '◌ং']\n",
        "group10 = ['চ', 'ছ']\n",
        "group11 = ['য', 'জ', 'ঝ']\n",
        "group12 = ['ট', 'ঠ']\n",
        "group13 = ['ড', 'ঢ']\n",
        "group14 = ['ঋ', 'র', 'ড়','ঢ়']\n",
        "group15 = ['ন', 'ণ']\n",
        "group16 = ['ত', 'থ']\n",
        "group17 = ['দ', 'ধ']\n",
        "group18 = ['প', 'ফ']\n",
        "group19 = ['ব', 'ভ']\n",
        "group20 = ['শ', 'স', 'ষ']\n",
        "group21 = ['হ', '◌ঃ']"
      ],
      "execution_count": 0,
      "outputs": []
    },
    {
      "cell_type": "code",
      "metadata": {
        "id": "p3CljRDuBAuj",
        "colab_type": "code",
        "colab": {}
      },
      "source": [
        "import random\n",
        "from google.colab import drive\n",
        "drive.mount('/content/drive')"
      ],
      "execution_count": 0,
      "outputs": []
    },
    {
      "cell_type": "code",
      "metadata": {
        "id": "GfOR4VIjBImZ",
        "colab_type": "code",
        "colab": {}
      },
      "source": [
        "%ls 'drive/My Drive/Colab Notebooks/Capstone/'"
      ],
      "execution_count": 0,
      "outputs": []
    },
    {
      "cell_type": "code",
      "metadata": {
        "id": "b5k_9FfDBL8s",
        "colab_type": "code",
        "colab": {
          "base_uri": "https://localhost:8080/",
          "height": 72
        },
        "outputId": "47068f23-5eba-497c-e7e6-c274e183dfbc"
      },
      "source": [
        "corpus_file = 'drive/My Drive/Colab Notebooks/Capstone/valid.txt'\n",
        "print('\\nPreparing the  sentences...')\n",
        "sentences = []\n",
        "with open(corpus_file, 'r', encoding=\"utf-8-sig\") as f:\n",
        "    for line in f:\n",
        "        sentences.append(line.split())\n",
        "        \n",
        "print('Num sentences:', len(sentences))"
      ],
      "execution_count": 15,
      "outputs": [
        {
          "output_type": "stream",
          "text": [
            "\n",
            "Preparing the  sentences...\n",
            "Num sentences: 7\n"
          ],
          "name": "stdout"
        }
      ]
    },
    {
      "cell_type": "code",
      "metadata": {
        "id": "R1LD37NJC5zm",
        "colab_type": "code",
        "outputId": "f6548a59-2eb9-4495-b329-de6f94a9d70d",
        "colab": {
          "base_uri": "https://localhost:8080/",
          "height": 165
        }
      },
      "source": [
        "f = open(\"test_data.txt\", \"x\")\n",
        "f = open(\"test_data.txt\", \"a\")\n",
        "for line in sentences:\n",
        "    i=2\n",
        "    print(line[0],end='')\n",
        "    print(\" \",end='')\n",
        "    f.write(line[0]+\" \")\n",
        "    print(line[1],end='')\n",
        "    print(\" \",end='')\n",
        "    f.write(line[1]+\" \")\n",
        "    while i<len(line):\n",
        "      r = random.randrange(0,9, 1)\n",
        "      #if len(line[i])>2:\n",
        "      if r <=2:\n",
        "        end2=len(line[i])\n",
        "        r2 = random.randrange(0, end2, 1)\n",
        "        j=0\n",
        "        for c in line[i]:\n",
        "          if j == r2:\n",
        "            if c in group1:\n",
        "              end3=len(group1)\n",
        "              r3 = random.randrange(0,end3, 1)\n",
        "              f.write(group1[r3])\n",
        "              print(group1[r3],end='')\n",
        "            elif c in group2:\n",
        "              end3=len(group2)\n",
        "              r3 = random.randrange(0,end3, 1)\n",
        "              f.write(group2[r3])\n",
        "              print(group2[r3],end='')\n",
        "            elif c in group3:\n",
        "              end3=len(group3)\n",
        "              r3 = random.randrange(0,end3, 1)\n",
        "              f.write(group3[r3])\n",
        "              print(group3[r3],end='')\n",
        "            elif c in group4:\n",
        "              end3=len(group4)\n",
        "              r3 = random.randrange(0,end3, 1)\n",
        "              f.write(group4[r3])\n",
        "              print(group4[r3],end='')\n",
        "            elif c in group5:\n",
        "              end3=len(group5)\n",
        "              r3 = random.randrange(0,end3, 1)\n",
        "              f.write(group4[r3])\n",
        "              print(group5[r3],end='')\n",
        "            elif c in group6:\n",
        "              end3=len(group6)\n",
        "              r3 = random.randrange(0,end3, 1)\n",
        "              f.write(group6[r3])\n",
        "              print(group6[r3],end='')\n",
        "            elif c in group7:\n",
        "              end3=len(group7)\n",
        "              r3 = random.randrange(0,end3, 1)\n",
        "              f.write(group7[r3])\n",
        "              print(group7[r3],end='')\n",
        "            elif c in group8:\n",
        "              end3=len(group8)\n",
        "              r3 = random.randrange(0,end3, 1)\n",
        "              f.write(group8[r3])\n",
        "              print(group8[r3],end='')\n",
        "            elif c in group9:\n",
        "              end3=len(group9)\n",
        "              r3 = random.randrange(0,end3, 1)\n",
        "              f.write(group9[r3])\n",
        "              print(group9[r3],end='')\n",
        "            elif c in group10:\n",
        "              end3=len(group10)\n",
        "              r3 = random.randrange(0,end3, 1)\n",
        "              f.write(group10[r3])\n",
        "              print(group10[r3],end='')\n",
        "            elif c in group11:\n",
        "              end3=len(group11)\n",
        "              r3 = random.randrange(0,end3, 1)\n",
        "              f.write(group11[r3])\n",
        "              print(group11[r3],end='')\n",
        "            elif c in group12:\n",
        "              end3=len(group12)\n",
        "              r3 = random.randrange(0,end3, 1)\n",
        "              f.write(group12[r3])\n",
        "              print(group12[r3],end='')\n",
        "            elif c in group13:\n",
        "              end3=len(group13)\n",
        "              r3 = random.randrange(0,end3, 1)\n",
        "              f.write(group13[r3])\n",
        "              print(group13[r3],end='')\n",
        "            elif c in group14:\n",
        "              end3=len(group14)\n",
        "              r3 = random.randrange(0,end3, 1)\n",
        "              f.write(group14[r3])\n",
        "              print(group14[r3],end='')\n",
        "            elif c in group15:\n",
        "              end3=len(group15)\n",
        "              r3 = random.randrange(0,end3, 1)\n",
        "              f.write(group15[r3])\n",
        "              print(group15[r3],end='')\n",
        "            elif c in group16:\n",
        "              end3=len(group16)\n",
        "              r3 = random.randrange(0,end3, 1)\n",
        "              f.write(group16[r3])\n",
        "              print(group16[r3],end='')\n",
        "            elif c in group17:\n",
        "              end3=len(group17)\n",
        "              r3 = random.randrange(0,end3, 1)\n",
        "              f.write(group17[r3])  \n",
        "              print(group17[r3],end='')\n",
        "            elif c in group18:\n",
        "              end3=len(group18)\n",
        "              r3 = random.randrange(0,end3, 1)\n",
        "              f.write(group18[r3])\n",
        "              print(group18[r3],end='')\n",
        "            elif c in group19:\n",
        "              end3=len(group19)\n",
        "              r3 = random.randrange(0,end3, 1)\n",
        "              f.write(group19[r3])\n",
        "              print(group19[r3],end='')\n",
        "            elif c in group20:\n",
        "              end3=len(group20)\n",
        "              r3 = random.randrange(0,end3, 1)\n",
        "              f.write(group20[r3])\n",
        "              print(group20[r3],end='')\n",
        "            elif c in group21:\n",
        "              end3=len(group21)\n",
        "              r3 = random.randrange(0,end3, 1)\n",
        "              f.write(group21[r3])\n",
        "              print(group21[r3],end='')\n",
        "        #print(line[i],end=' ')\n",
        "          else:\n",
        "            print(c,end='')\n",
        "            f.write(c)\n",
        "        print(\" \",end=' ')\n",
        "        f.write(\" \")\n",
        "      else:\n",
        "        print(line[i],end=' ')\n",
        "        f.write(line[i] + \" \")\n",
        "        print(\" \",end=' ')\n",
        "      i+=1\n",
        "    print()\n",
        "    f.write(\"\\n\")\n",
        "f.close()"
      ],
      "execution_count": 43,
      "outputs": [
        {
          "output_type": "stream",
          "text": [
            "উইকিপিডিয়া একটি ইন্টারনেটভিত্তিক   মুক্ত   বিশ্বকোষ  \n",
            "জনমানুষের স্বেচ্ছাশ্রমে থৈঋি  এই   বিশ্বকোষ   সমৃদ্ধ   খঢ়তঐ  আপনিও   অবদান  রাখতে   পারেন   \n",
            "বিশ্বের ৩০১টি ভাষায়   পরিচালিত   উইকিপিডিয়ার   বাংলা   সংস্করণটির   যাত্রা   শুরু   হয়  ২৭শে  জানুয়ারি   ২০০৪   সালে  \n",
            "তড়িৎ প্রকৌশল যা   প্রায়শ   তড়িৎ   ও   ইলেকট্রনিক   প্রকৌশল   নামে   অভিহিত  প্রকৌশল   পেশার  একটি   প্রধান   শাখা   যা   মূলত  তড়িৎ   ইলেকট্রনিক্স   ৌ  তড়িচ্চুম্বকত্ব   নিয়ে   কাজ   করে   \n",
            "উল্লেখযোগ্য পেশা হিসেবে   তডি  প্রকৌশল  আত্মপ্রকাশ   করে  উনবিংশ   শতাব্দীর   শেষ   ভাগে   যখন  টেলিগ্রাফি  এবং   বিদ্যুৎশক্তির   ব্যবহার  জনপ্রিয়   হয়ে   উঠতে   শুরু   করে   \n",
            "বর্তমানে তড়িৎ পঋখসএর  ব্যাপ্তি   বিদ্যুৎশক্তি   নিয়ন্ত্রণ   ব্যবস্থা  ইলেকট্রনিক্স  টেলিযোগাযোগ  সহ   ◌াড়ৌ  কিছু  উপশাখা  জুড়ে   ভ◌ীশতথ  \n",
            "তড়িৎ প্রকৌশল বলতে  অনেক   সময়   তড়িৎ  ৌ  ইলেকট্রনিক   প্রকৌশলও  বোঝানো   হয়ে   থাকে   \n"
          ],
          "name": "stdout"
        }
      ]
    },
    {
      "cell_type": "code",
      "metadata": {
        "id": "ofijD3M0j-FQ",
        "colab_type": "code",
        "colab": {
          "base_uri": "https://localhost:8080/",
          "height": 165
        },
        "outputId": "557e2949-c44e-4a4d-9909-d4be3eb69036"
      },
      "source": [
        "for a in sentences:\n",
        "  print(a)"
      ],
      "execution_count": 17,
      "outputs": [
        {
          "output_type": "stream",
          "text": [
            "['উইকিপিডিয়া', 'একটি', 'ইন্টারনেটভিত্তিক', 'মুক্ত', 'বিশ্বকোষ']\n",
            "['জনমানুষের', 'স্বেচ্ছাশ্রমে', 'তৈরি', 'এই', 'বিশ্বকোষ', 'সমৃদ্ধ', 'করতে', 'আপনিও', 'অবদান', 'রাখতে', 'পারেন']\n",
            "['বিশ্বের', '৩০১টি', 'ভাষায়', 'পরিচালিত', 'উইকিপিডিয়ার', 'বাংলা', 'সংস্করণটির', 'যাত্রা', 'শুরু', 'হয়', '২৭শে', 'জানুয়ারি', '২০০৪', 'সালে']\n",
            "['তড়িৎ', 'প্রকৌশল', 'যা', 'প্রায়শ', 'তড়িৎ', 'ও', 'ইলেকট্রনিক', 'প্রকৌশল', 'নামে', 'অভিহিত', 'প্রকৌশল', 'পেশার', 'একটি', 'প্রধান', 'শাখা', 'যা', 'মূলত', 'তড়িৎ', 'ইলেকট্রনিক্স', 'ও', 'তড়িচ্চুম্বকত্ব', 'নিয়ে', 'কাজ', 'করে']\n",
            "['উল্লেখযোগ্য', 'পেশা', 'হিসেবে', 'তড়িৎ', 'প্রকৌশল', 'আত্মপ্রকাশ', 'করে', 'উনবিংশ', 'শতাব্দীর', 'শেষ', 'ভাগে', 'যখন', 'টেলিগ্রাফি', 'এবং', 'বিদ্যুৎশক্তির', 'ব্যবহার', 'জনপ্রিয়', 'হয়ে', 'উঠতে', 'শুরু', 'করে']\n",
            "['বর্তমানে', 'তড়িৎ', 'প্রকৌশলের', 'ব্যাপ্তি', 'বিদ্যুৎশক্তি', 'নিয়ন্ত্রণ', 'ব্যবস্থা', 'ইলেকট্রনিক্স', 'টেলিযোগাযোগ', 'সহ', 'আরও', 'কিছু', 'উপশাখা', 'জুড়ে', 'বিস্তৃত']\n",
            "['তড়িৎ', 'প্রকৌশল', 'বলতে', 'অনেক', 'সময়', 'তড়িৎ', 'ও', 'ইলেকট্রনিক', 'প্রকৌশলও', 'বোঝানো', 'হয়ে', 'থাকে']\n"
          ],
          "name": "stdout"
        }
      ]
    },
    {
      "cell_type": "code",
      "metadata": {
        "id": "b0XVtKLTBx6J",
        "colab_type": "code",
        "colab": {}
      },
      "source": [
        ""
      ],
      "execution_count": 0,
      "outputs": []
    }
  ]
}