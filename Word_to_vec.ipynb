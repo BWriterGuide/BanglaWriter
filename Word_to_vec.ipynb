{
  "nbformat": 4,
  "nbformat_minor": 0,
  "metadata": {
    "colab": {
      "name": "Word_to_vec.ipynb",
      "provenance": [],
      "collapsed_sections": [],
      "include_colab_link": true
    },
    "kernelspec": {
      "name": "python3",
      "display_name": "Python 3"
    }
  },
  "cells": [
    {
      "cell_type": "markdown",
      "metadata": {
        "id": "view-in-github",
        "colab_type": "text"
      },
      "source": [
        "<a href=\"https://colab.research.google.com/github/habibsifat/User-Friendly-Bangla-Writer-A-Deep-Learning-Based-Approach/blob/master/Word_to_vec.ipynb\" target=\"_parent\"><img src=\"https://colab.research.google.com/assets/colab-badge.svg\" alt=\"Open In Colab\"/></a>"
      ]
    },
    {
      "cell_type": "code",
      "metadata": {
        "id": "68JMuxM77eXO",
        "colab_type": "code",
        "colab": {}
      },
      "source": [
        "from google.colab import drive\n",
        "drive.mount('/content/drive')"
      ],
      "execution_count": 0,
      "outputs": []
    },
    {
      "cell_type": "code",
      "metadata": {
        "id": "LU1z3TtB6Vhs",
        "colab_type": "code",
        "outputId": "3f6f5961-efbf-4750-965b-a7ec5d91d428",
        "colab": {
          "base_uri": "https://localhost:8080/",
          "height": 35
        }
      },
      "source": [
        "!ls  \"/content/drive/My Drive/Colab Notebooks/final.txt\""
      ],
      "execution_count": 0,
      "outputs": [
        {
          "output_type": "stream",
          "text": [
            "'/content/drive/My Drive/Colab Notebooks/final.txt'\n"
          ],
          "name": "stdout"
        }
      ]
    },
    {
      "cell_type": "code",
      "metadata": {
        "id": "vvExrOzGmGQF",
        "colab_type": "code",
        "colab": {}
      },
      "source": [
        "corpus_file = '/content/drive/My Drive/Colab Notebooks/final.txt'"
      ],
      "execution_count": 0,
      "outputs": []
    },
    {
      "cell_type": "code",
      "metadata": {
        "id": "kJLhhQjCmJtu",
        "colab_type": "code",
        "colab": {}
      },
      "source": [
        "sentences = []\n",
        "with open(corpus_file, 'r', encoding=\"utf-8\") as f:\n",
        "    for line in f:\n",
        "        sentences.append(line.split())\n",
        "        "
      ],
      "execution_count": 0,
      "outputs": []
    },
    {
      "cell_type": "code",
      "metadata": {
        "id": "rbNKEJXjmNct",
        "colab_type": "code",
        "colab": {}
      },
      "source": [
        "len(sentences)"
      ],
      "execution_count": 0,
      "outputs": []
    },
    {
      "cell_type": "code",
      "metadata": {
        "id": "tJTDL9mX9k8t",
        "colab_type": "code",
        "colab": {}
      },
      "source": [
        "s = []\n",
        "\n",
        "for line in sentences:\n",
        "  s.append(len(line))"
      ],
      "execution_count": 0,
      "outputs": []
    },
    {
      "cell_type": "code",
      "metadata": {
        "id": "zfMlcABH9RC_",
        "colab_type": "code",
        "colab": {}
      },
      "source": [
        "\n",
        "# intilize a null list \n",
        "    unique_word = [] \n",
        "    s1 = []  \n",
        "    i=0\n",
        "    # traverse for all elements \n",
        "    for x in sentences: \n",
        "        # check if exists in unique_list or not \n",
        "        for word in x:\n",
        "           if word not in unique_word: \n",
        "            unique_word.append(word)\n",
        "            #print(word,end='-')\n",
        "            \n",
        "    # print list \n",
        "    for word in unique_word: \n",
        "        print(word,end='-')\n",
        "        \n",
        "        \n",
        "  "
      ],
      "execution_count": 0,
      "outputs": []
    },
    {
      "cell_type": "code",
      "metadata": {
        "id": "3uHzL44QBlc6",
        "colab_type": "code",
        "colab": {}
      },
      "source": [
        "f = open(\"myfile.txt\", \"x\")\n",
        "f = open(\"myfile.txt\", \"a\")\n",
        "st = \"\"\n",
        "for word in unique_word: \n",
        "        st=st+word\n",
        "        st=st+\"-\"\n",
        "        f.write(st)\n",
        "        \n",
        "f.close()"
      ],
      "execution_count": 0,
      "outputs": []
    },
    {
      "cell_type": "code",
      "metadata": {
        "id": "g0BxXRFjmWBl",
        "colab_type": "code",
        "colab": {}
      },
      "source": [
        "!pip install gensim"
      ],
      "execution_count": 0,
      "outputs": []
    },
    {
      "cell_type": "code",
      "metadata": {
        "id": "ZH6XwbwTmYyO",
        "colab_type": "code",
        "colab": {}
      },
      "source": [
        "from gensim.models import Word2Vec"
      ],
      "execution_count": 0,
      "outputs": []
    },
    {
      "cell_type": "code",
      "metadata": {
        "id": "1Mf2vTUumb3_",
        "colab_type": "code",
        "colab": {}
      },
      "source": [
        "#model = Word2Vec(sentences, sg=1)  # training\n",
        "\n",
        "model = Word2Vec(sentences, sg=1, size=300, window=5, min_count=1000, workers=4,iter=1)\n",
        "# sg=1 means skip gram word_to_vec model\n",
        "# size is the vector size\n",
        "# window is the sentence window size\n",
        "# min_count means to take into account words that occurred more than 5 times"
      ],
      "execution_count": 0,
      "outputs": []
    },
    {
      "cell_type": "code",
      "metadata": {
        "id": "GVAd_G2-nOVI",
        "colab_type": "code",
        "outputId": "f16f576d-d387-4313-9166-8254334761da",
        "colab": {
          "base_uri": "https://localhost:8080/",
          "height": 35
        }
      },
      "source": [
        "len(model.wv.vocab)"
      ],
      "execution_count": 0,
      "outputs": [
        {
          "output_type": "execute_result",
          "data": {
            "text/plain": [
              "9101"
            ]
          },
          "metadata": {
            "tags": []
          },
          "execution_count": 27
        }
      ]
    },
    {
      "cell_type": "code",
      "metadata": {
        "id": "UBYv39bHR-io",
        "colab_type": "code",
        "colab": {}
      },
      "source": [
        "model.wv.vocab"
      ],
      "execution_count": 0,
      "outputs": []
    },
    {
      "cell_type": "code",
      "metadata": {
        "id": "7Jyal43ZWAF7",
        "colab_type": "code",
        "colab": {}
      },
      "source": [
        "#off\n",
        "!pip install -U -q PyDrive\n",
        "from pydrive.auth import GoogleAuth\n",
        "from pydrive.drive import GoogleDrive\n",
        "from google.colab import auth\n",
        "from oauth2client.client import GoogleCredentials\n"
      ],
      "execution_count": 0,
      "outputs": []
    },
    {
      "cell_type": "code",
      "metadata": {
        "id": "I7elkAtsWJ4R",
        "colab_type": "code",
        "colab": {}
      },
      "source": [
        "# 1. Authenticate and create the PyDrive client.\n",
        "auth.authenticate_user()\n",
        "gauth = GoogleAuth()\n",
        "gauth.credentials = GoogleCredentials.get_application_default()\n",
        "drive = GoogleDrive(gauth)"
      ],
      "execution_count": 0,
      "outputs": []
    },
    {
      "cell_type": "code",
      "metadata": {
        "id": "0IBPIykxWZJM",
        "colab_type": "code",
        "colab": {}
      },
      "source": [
        "# 2. Save Keras Model or weights on google drive\n",
        "\n",
        "# create on Colab directory\n",
        "model.wv.save('model5.csv')    \n",
        "model_file = drive.CreateFile({'title' : 'model5.csv'})\n",
        "model_file.SetContentFile('model5.csv')\n",
        "model_file.Upload()"
      ],
      "execution_count": 0,
      "outputs": []
    },
    {
      "cell_type": "code",
      "metadata": {
        "id": "WG9piALbaIMD",
        "colab_type": "code",
        "colab": {}
      },
      "source": [
        "# download to google drive\n",
        "drive.CreateFile({'id': model_file.get('id')})"
      ],
      "execution_count": 0,
      "outputs": []
    },
    {
      "cell_type": "code",
      "metadata": {
        "id": "_-_gZvY5fT_M",
        "colab_type": "code",
        "colab": {}
      },
      "source": [
        "import pandas as pd\n",
        "\n",
        "ordered_vocab = [(term, voc.index, voc.count) for term, voc in model.wv.vocab.items()]\n",
        "ordered_vocab = sorted(ordered_vocab, key=lambda k: k[2])\n",
        "ordered_terms, term_indices, term_counts = zip(*ordered_vocab)\n",
        "word_vectors = pd.DataFrame(model.wv.syn0[term_indices, :], index=ordered_terms)\n",
        "word_vectors.head(10)"
      ],
      "execution_count": 0,
      "outputs": []
    },
    {
      "cell_type": "code",
      "metadata": {
        "id": "ZUurhWpbioqr",
        "colab_type": "code",
        "colab": {}
      },
      "source": [
        "word_vectors.to_csv(\"word_vectors_1000.pdf\")"
      ],
      "execution_count": 0,
      "outputs": []
    },
    {
      "cell_type": "code",
      "metadata": {
        "id": "ushOSu3u_42a",
        "colab_type": "code",
        "outputId": "fadd2ba2-5aed-4024-afa6-fb94ea7696b3",
        "colab": {
          "base_uri": "https://localhost:8080/",
          "height": 35
        }
      },
      "source": [
        "print(\"jjjhhjhhjhjhhg\")"
      ],
      "execution_count": 0,
      "outputs": [
        {
          "output_type": "stream",
          "text": [
            "jjjhhjhhjhjhhg\n"
          ],
          "name": "stdout"
        }
      ]
    },
    {
      "cell_type": "code",
      "metadata": {
        "id": "vx491yQcngvb",
        "colab_type": "code",
        "colab": {}
      },
      "source": [
        "model.wv['ভিত্তিক']\n",
        " "
      ],
      "execution_count": 0,
      "outputs": []
    },
    {
      "cell_type": "code",
      "metadata": {
        "id": "-Vo9pKqHnlzp",
        "colab_type": "code",
        "colab": {}
      },
      "source": [
        "#model.wv.most_similar_cosmul('হাসিনা')\n",
        "model.wv.most_similar_cosmul('সপ্তম')"
      ],
      "execution_count": 0,
      "outputs": []
    },
    {
      "cell_type": "code",
      "metadata": {
        "id": "ZD9CqxtbnqQy",
        "colab_type": "code",
        "colab": {}
      },
      "source": [
        "#model.wv.most_similar_cosmul(positive=['ঢাকা', 'ভারত'], negative=['বাংলাদেশ'])\n",
        "\n",
        "model.wv.most_similar_cosmul(positive=['প্রযুক্তিগত', 'সংগঠন'], negative=['ফাউন্ডেশন'])"
      ],
      "execution_count": 0,
      "outputs": []
    },
    {
      "cell_type": "code",
      "metadata": {
        "id": "kE4pW9xvoNNi",
        "colab_type": "code",
        "colab": {}
      },
      "source": [
        "# https://colab.research.google.com/drive/1iNJn1C15OKaBK_dsGW0YDxL7H22G2BcJ#scrollTo=QWT_4W_V4KPp"
      ],
      "execution_count": 0,
      "outputs": []
    },
    {
      "cell_type": "code",
      "metadata": {
        "id": "xyUk66tjqotn",
        "colab_type": "code",
        "colab": {}
      },
      "source": [
        "model"
      ],
      "execution_count": 0,
      "outputs": []
    }
  ]
}