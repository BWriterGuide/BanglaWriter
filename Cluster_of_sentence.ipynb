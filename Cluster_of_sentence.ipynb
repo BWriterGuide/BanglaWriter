{
  "nbformat": 4,
  "nbformat_minor": 0,
  "metadata": {
    "colab": {
      "name": "Cluster_of_sentence.ipynb",
      "provenance": [],
      "collapsed_sections": [],
      "include_colab_link": true
    },
    "kernelspec": {
      "name": "python3",
      "display_name": "Python 3"
    }
  },
  "cells": [
    {
      "cell_type": "markdown",
      "metadata": {
        "id": "view-in-github",
        "colab_type": "text"
      },
      "source": [
        "<a href=\"https://colab.research.google.com/github/habibsifat/User-Friendly-Bangla-Writer-A-Deep-Learning-Based-Approach/blob/master/Cluster_of_sentence.ipynb\" target=\"_parent\"><img src=\"https://colab.research.google.com/assets/colab-badge.svg\" alt=\"Open In Colab\"/></a>"
      ]
    },
    {
      "cell_type": "code",
      "metadata": {
        "id": "J_p1kJp4BNIR",
        "colab_type": "code",
        "outputId": "e2202438-79b2-4d4d-e67c-5e39034ecbf8",
        "colab": {
          "base_uri": "https://localhost:8080/",
          "height": 35
        }
      },
      "source": [
        "from google.colab import drive\n",
        "drive.mount('/content/drive')"
      ],
      "execution_count": 0,
      "outputs": [
        {
          "output_type": "stream",
          "text": [
            "Mounted at /content/drive\n"
          ],
          "name": "stdout"
        }
      ]
    },
    {
      "cell_type": "code",
      "metadata": {
        "id": "Rd42v4yOA6Cq",
        "colab_type": "code",
        "outputId": "7a743e95-2332-4529-fa79-1305dd111f81",
        "colab": {
          "base_uri": "https://localhost:8080/",
          "height": 35
        }
      },
      "source": [
        "!ls  \"/content/drive/My Drive/Colab Notebooks/Capstone/Final/update_corpus.txt\""
      ],
      "execution_count": 0,
      "outputs": [
        {
          "output_type": "stream",
          "text": [
            "'/content/drive/My Drive/Colab Notebooks/Capstone/Final/update_corpus.txt'\n"
          ],
          "name": "stdout"
        }
      ]
    },
    {
      "cell_type": "code",
      "metadata": {
        "id": "XU66GE4uBA_O",
        "colab_type": "code",
        "colab": {}
      },
      "source": [
        "corpus_file = '/content/drive/My Drive/Colab Notebooks/Capstone/Final/update_corpus.txt'"
      ],
      "execution_count": 0,
      "outputs": []
    },
    {
      "cell_type": "code",
      "metadata": {
        "id": "_YZ4xSTiBFGv",
        "colab_type": "code",
        "outputId": "67e55361-d837-477e-f751-742524658003",
        "colab": {
          "base_uri": "https://localhost:8080/",
          "height": 35
        }
      },
      "source": [
        "sentences = []\n",
        "with open(corpus_file, 'r', encoding=\"utf-8\") as f:\n",
        "    for line in f:\n",
        "        sentences.append(line.split())\n",
        "        \n",
        "print('Num sentences:', len(sentences))"
      ],
      "execution_count": 0,
      "outputs": [
        {
          "output_type": "stream",
          "text": [
            "Num sentences: 7516338\n"
          ],
          "name": "stdout"
        }
      ]
    },
    {
      "cell_type": "code",
      "metadata": {
        "id": "7wgAwmPSBKgK",
        "colab_type": "code",
        "colab": {}
      },
      "source": [
        "f = open(\"final_corpus.txt\", \"x\")\n",
        "f = open(\"final_corpus.txt\", \"a\")\n",
        "\n",
        "for line in sentences:\n",
        "  if len(line) < 31 and len(line) > 2:\n",
        "    for word in line:\n",
        "        f.write(word)\n",
        "        print(word,end='')\n",
        "    print()\n",
        "    f.write(\"\\n\")\n",
        "f.close()"
      ],
      "execution_count": 0,
      "outputs": []
    },
    {
      "cell_type": "code",
      "metadata": {
        "id": "b_RcfO75CIte",
        "colab_type": "code",
        "colab": {}
      },
      "source": [
        "with open('/content/drive/My Drive/Colab Notebooks/Capstone/Final/final_corpus.txt', 'w',encoding=\"utf-8\") as f:\n",
        "        for line in sentences:\n",
        "          if len(line) < 31 and len(line) > 2:\n",
        "              f.write(listToString(line))\n",
        "              print(listToString(line))\n",
        "              f.write(\"\\n\")\n",
        "\n",
        "f.close()"
      ],
      "execution_count": 0,
      "outputs": []
    },
    {
      "cell_type": "code",
      "metadata": {
        "id": "k6em3QSxSSiE",
        "colab_type": "code",
        "colab": {}
      },
      "source": [
        "def listToString(s):  \n",
        "    \n",
        "    # initialize an empty string \n",
        "    str1 = \"\"  \n",
        "    \n",
        "    # traverse in the string   \n",
        "    for ele in s:  \n",
        "        str1 += ele   \n",
        "    \n",
        "    # return string   \n",
        "    return str1  \n"
      ],
      "execution_count": 0,
      "outputs": []
    },
    {
      "cell_type": "code",
      "metadata": {
        "id": "7TC_gRkFTBb1",
        "colab_type": "code",
        "colab": {}
      },
      "source": [
        ""
      ],
      "execution_count": 0,
      "outputs": []
    }
  ]
}